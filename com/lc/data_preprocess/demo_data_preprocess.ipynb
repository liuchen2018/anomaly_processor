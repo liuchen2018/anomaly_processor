{
 "cells": [
  {
   "cell_type": "code",
   "execution_count": 28,
   "outputs": [
    {
     "data": {
      "text/plain": "                 time    03:3UGM4  03:3UMO1701BCu  03:3UBMZ1FL  \\\n0  01-Jan-19 00:00:00  215.850098      132.805481    96.749191   \n1  01-Jan-19 00:01:00  214.955154      133.012909    98.510017   \n2  01-Jan-19 00:02:00  214.180512      132.267822    98.291191   \n3  01-Jan-19 00:03:00  209.741379      131.461700    98.095352   \n4  01-Jan-19 00:04:00  204.371262      132.075058    98.488159   \n\n   03:3UCV1702BPS  03:3UCV1791BPS  03:3UCV1792BPS  03:3UFT1701B  03:3UFT1731B  \\\n0       13.465189       16.844675        0.913070      1.511021      1.280168   \n1       13.463996       16.844675        0.912990      1.510013      1.279009   \n2       13.462802       16.844675        0.912911      1.509005      1.277851   \n3       13.461608       16.844675        0.912831      1.507996      1.276692   \n4       13.460415       16.844675        0.912752      1.506988      1.275533   \n\n   03:3UFT1732B  ...  03:3UTE1799BB  03:B1TOTALAF  03:B2PAFL  03:B2TOTALAF  \\\n0     -0.036401  ...      49.642376      0.789993   0.143386      1.188704   \n1     -0.036339  ...      49.641315      0.788884   0.143472      1.188100   \n2     -0.036278  ...      49.640259      0.787775   0.143558      1.187497   \n3     -0.036217  ...      49.639198      0.786665   0.143644      1.186893   \n4     -0.036156  ...      49.638142      0.785556   0.143730      1.186290   \n\n    03:BMB1OT   03:BMB2OT  03:BMLVLDP     03:BMOT  03:BMPAFL  03:BMTOTALAF  \n0  104.492561  109.703964  794.947998  109.703964   0.123169      2.194245  \n1  104.486725  109.700264  784.044067  109.700264   0.123170      2.193208  \n2  104.480881  109.696564  783.462341  109.696564   0.123171      2.192170  \n3  104.475044  109.692871  815.742310  109.692871   0.123173      2.191133  \n4  104.469208  109.689171  810.956726  109.689171   0.123174      2.190095  \n\n[5 rows x 58 columns]",
      "text/html": "<div>\n<style scoped>\n    .dataframe tbody tr th:only-of-type {\n        vertical-align: middle;\n    }\n\n    .dataframe tbody tr th {\n        vertical-align: top;\n    }\n\n    .dataframe thead th {\n        text-align: right;\n    }\n</style>\n<table border=\"1\" class=\"dataframe\">\n  <thead>\n    <tr style=\"text-align: right;\">\n      <th></th>\n      <th>time</th>\n      <th>03:3UGM4</th>\n      <th>03:3UMO1701BCu</th>\n      <th>03:3UBMZ1FL</th>\n      <th>03:3UCV1702BPS</th>\n      <th>03:3UCV1791BPS</th>\n      <th>03:3UCV1792BPS</th>\n      <th>03:3UFT1701B</th>\n      <th>03:3UFT1731B</th>\n      <th>03:3UFT1732B</th>\n      <th>...</th>\n      <th>03:3UTE1799BB</th>\n      <th>03:B1TOTALAF</th>\n      <th>03:B2PAFL</th>\n      <th>03:B2TOTALAF</th>\n      <th>03:BMB1OT</th>\n      <th>03:BMB2OT</th>\n      <th>03:BMLVLDP</th>\n      <th>03:BMOT</th>\n      <th>03:BMPAFL</th>\n      <th>03:BMTOTALAF</th>\n    </tr>\n  </thead>\n  <tbody>\n    <tr>\n      <th>0</th>\n      <td>01-Jan-19 00:00:00</td>\n      <td>215.850098</td>\n      <td>132.805481</td>\n      <td>96.749191</td>\n      <td>13.465189</td>\n      <td>16.844675</td>\n      <td>0.913070</td>\n      <td>1.511021</td>\n      <td>1.280168</td>\n      <td>-0.036401</td>\n      <td>...</td>\n      <td>49.642376</td>\n      <td>0.789993</td>\n      <td>0.143386</td>\n      <td>1.188704</td>\n      <td>104.492561</td>\n      <td>109.703964</td>\n      <td>794.947998</td>\n      <td>109.703964</td>\n      <td>0.123169</td>\n      <td>2.194245</td>\n    </tr>\n    <tr>\n      <th>1</th>\n      <td>01-Jan-19 00:01:00</td>\n      <td>214.955154</td>\n      <td>133.012909</td>\n      <td>98.510017</td>\n      <td>13.463996</td>\n      <td>16.844675</td>\n      <td>0.912990</td>\n      <td>1.510013</td>\n      <td>1.279009</td>\n      <td>-0.036339</td>\n      <td>...</td>\n      <td>49.641315</td>\n      <td>0.788884</td>\n      <td>0.143472</td>\n      <td>1.188100</td>\n      <td>104.486725</td>\n      <td>109.700264</td>\n      <td>784.044067</td>\n      <td>109.700264</td>\n      <td>0.123170</td>\n      <td>2.193208</td>\n    </tr>\n    <tr>\n      <th>2</th>\n      <td>01-Jan-19 00:02:00</td>\n      <td>214.180512</td>\n      <td>132.267822</td>\n      <td>98.291191</td>\n      <td>13.462802</td>\n      <td>16.844675</td>\n      <td>0.912911</td>\n      <td>1.509005</td>\n      <td>1.277851</td>\n      <td>-0.036278</td>\n      <td>...</td>\n      <td>49.640259</td>\n      <td>0.787775</td>\n      <td>0.143558</td>\n      <td>1.187497</td>\n      <td>104.480881</td>\n      <td>109.696564</td>\n      <td>783.462341</td>\n      <td>109.696564</td>\n      <td>0.123171</td>\n      <td>2.192170</td>\n    </tr>\n    <tr>\n      <th>3</th>\n      <td>01-Jan-19 00:03:00</td>\n      <td>209.741379</td>\n      <td>131.461700</td>\n      <td>98.095352</td>\n      <td>13.461608</td>\n      <td>16.844675</td>\n      <td>0.912831</td>\n      <td>1.507996</td>\n      <td>1.276692</td>\n      <td>-0.036217</td>\n      <td>...</td>\n      <td>49.639198</td>\n      <td>0.786665</td>\n      <td>0.143644</td>\n      <td>1.186893</td>\n      <td>104.475044</td>\n      <td>109.692871</td>\n      <td>815.742310</td>\n      <td>109.692871</td>\n      <td>0.123173</td>\n      <td>2.191133</td>\n    </tr>\n    <tr>\n      <th>4</th>\n      <td>01-Jan-19 00:04:00</td>\n      <td>204.371262</td>\n      <td>132.075058</td>\n      <td>98.488159</td>\n      <td>13.460415</td>\n      <td>16.844675</td>\n      <td>0.912752</td>\n      <td>1.506988</td>\n      <td>1.275533</td>\n      <td>-0.036156</td>\n      <td>...</td>\n      <td>49.638142</td>\n      <td>0.785556</td>\n      <td>0.143730</td>\n      <td>1.186290</td>\n      <td>104.469208</td>\n      <td>109.689171</td>\n      <td>810.956726</td>\n      <td>109.689171</td>\n      <td>0.123174</td>\n      <td>2.190095</td>\n    </tr>\n  </tbody>\n</table>\n<p>5 rows × 58 columns</p>\n</div>"
     },
     "metadata": {},
     "output_type": "execute_result",
     "execution_count": 28
    }
   ],
   "source": [
    "import os\n",
    "import pandas as pd\n",
    "import matplotlib.pyplot as plt\n",
    "\n",
    "#获取数据文件的路径，加载数据文件\n",
    "#需要以整个项目的名称作为输入，才能获得相对路径\n",
    "\n",
    "#项目名称\n",
    "prjName = 'anomaly_processor/'\n",
    "curPath = os.path.abspath(os.path.dirname('__file__'))\n",
    "rootPath = curPath[:curPath.find(prjName)+len(prjName)]  # 获取myProject，也就是项目的根路径\n",
    "dataPath = os.path.abspath(rootPath + 'data/demo.csv') # 获取tran.csv文件的路径\n",
    "\n",
    "\n",
    "data = pd.read_csv(dataPath)\n",
    "data"
   ],
   "metadata": {
    "collapsed": false,
    "pycharm": {
     "name": "#%%\n",
     "is_executing": false
    }
   }
  },
  {
   "cell_type": "code",
   "execution_count": null,
   "outputs": [],
   "source": [
    "\n"
   ],
   "metadata": {
    "collapsed": false,
    "pycharm": {
     "name": "#%%\n"
    }
   }
  }
 ],
 "metadata": {
  "kernelspec": {
   "display_name": "Python 3",
   "language": "python",
   "name": "python3"
  },
  "language_info": {
   "codemirror_mode": {
    "name": "ipython",
    "version": 2
   },
   "file_extension": ".py",
   "mimetype": "text/x-python",
   "name": "python",
   "nbconvert_exporter": "python",
   "pygments_lexer": "ipython2",
   "version": "2.7.6"
  },
  "pycharm": {
   "stem_cell": {
    "cell_type": "raw",
    "source": [],
    "metadata": {
     "collapsed": false
    }
   }
  }
 },
 "nbformat": 4,
 "nbformat_minor": 0
}